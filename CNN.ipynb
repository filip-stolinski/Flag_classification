{
 "cells": [
  {
   "cell_type": "code",
   "execution_count": 1,
   "id": "039c9950",
   "metadata": {},
   "outputs": [],
   "source": [
    "import tensorflow as tf\n",
    "from tensorflow.keras import layers, models\n",
    "import pathlib\n",
    "from tensorflow.keras.models import Sequential\n",
    "from load_imgs import load_from_dir\n",
    "from predict_img import predict_flag_file, predict_on_folder"
   ]
  },
  {
   "cell_type": "code",
   "execution_count": 3,
   "id": "7f4a4684",
   "metadata": {},
   "outputs": [
    {
     "name": "stdout",
     "output_type": "stream",
     "text": [
      "Found 197197 files belonging to 207 classes.\n",
      "Found 20820 files belonging to 207 classes.\n"
     ]
    }
   ],
   "source": [
    "train_ds = load_from_dir('./augm_flags/')\n",
    "test_ds = load_from_dir('./augm_flags_test/')\n",
    "class_names = train_ds.class_names"
   ]
  },
  {
   "cell_type": "code",
   "execution_count": 4,
   "id": "7af3edce",
   "metadata": {},
   "outputs": [],
   "source": [
    "img_height = 180\n",
    "img_width = 240"
   ]
  },
  {
   "cell_type": "code",
   "execution_count": 6,
   "id": "cbc78ea0",
   "metadata": {},
   "outputs": [],
   "source": [
    "def cnn_model():\n",
    "    model = Sequential([\n",
    "        layers.Rescaling(1./255, input_shape=(img_height, img_width, 3)),\n",
    "\n",
    "        layers.Conv2D(32, (3, 3), activation='relu',padding='same'),\n",
    "        layers.MaxPooling2D((2, 2)),\n",
    "\n",
    "        layers.Conv2D(32, (3, 3), activation='relu',padding='same'),\n",
    "        layers.MaxPooling2D((2, 2)),\n",
    "\n",
    "        layers.Conv2D(64, (3, 3), activation='relu',padding='same'),\n",
    "        layers.MaxPooling2D((2, 2)),\n",
    "\n",
    "        layers.Conv2D(64, (3, 3), activation='relu',padding='same'),\n",
    "        layers.MaxPooling2D((2, 2)),\n",
    "        \n",
    "        layers.Conv2D(128, (3, 3), activation='relu',padding='same'),\n",
    "        layers.MaxPooling2D((2, 2)),\n",
    "        \n",
    "        layers.Conv2D(128, (3, 3), activation='relu',padding='same'),\n",
    "        layers.MaxPooling2D((2, 2)),\n",
    "\n",
    "        layers.Flatten(),\n",
    "        layers.Dense(207, activation='softmax'),\n",
    "])\n",
    "    return model"
   ]
  },
  {
   "cell_type": "code",
   "execution_count": 7,
   "id": "1d514c76",
   "metadata": {},
   "outputs": [],
   "source": [
    "model = cnn_model()"
   ]
  },
  {
   "cell_type": "code",
   "execution_count": 8,
   "id": "f772891f",
   "metadata": {},
   "outputs": [
    {
     "name": "stdout",
     "output_type": "stream",
     "text": [
      "Model: \"sequential\"\n",
      "_________________________________________________________________\n",
      " Layer (type)                Output Shape              Param #   \n",
      "=================================================================\n",
      " rescaling (Rescaling)       (None, 180, 240, 3)       0         \n",
      "                                                                 \n",
      " conv2d (Conv2D)             (None, 180, 240, 32)      896       \n",
      "                                                                 \n",
      " max_pooling2d (MaxPooling2D  (None, 90, 120, 32)      0         \n",
      " )                                                               \n",
      "                                                                 \n",
      " conv2d_1 (Conv2D)           (None, 90, 120, 32)       9248      \n",
      "                                                                 \n",
      " max_pooling2d_1 (MaxPooling  (None, 45, 60, 32)       0         \n",
      " 2D)                                                             \n",
      "                                                                 \n",
      " conv2d_2 (Conv2D)           (None, 45, 60, 64)        18496     \n",
      "                                                                 \n",
      " max_pooling2d_2 (MaxPooling  (None, 22, 30, 64)       0         \n",
      " 2D)                                                             \n",
      "                                                                 \n",
      " conv2d_3 (Conv2D)           (None, 22, 30, 64)        36928     \n",
      "                                                                 \n",
      " max_pooling2d_3 (MaxPooling  (None, 11, 15, 64)       0         \n",
      " 2D)                                                             \n",
      "                                                                 \n",
      " conv2d_4 (Conv2D)           (None, 11, 15, 128)       73856     \n",
      "                                                                 \n",
      " max_pooling2d_4 (MaxPooling  (None, 5, 7, 128)        0         \n",
      " 2D)                                                             \n",
      "                                                                 \n",
      " conv2d_5 (Conv2D)           (None, 5, 7, 128)         147584    \n",
      "                                                                 \n",
      " max_pooling2d_5 (MaxPooling  (None, 2, 3, 128)        0         \n",
      " 2D)                                                             \n",
      "                                                                 \n",
      " flatten (Flatten)           (None, 768)               0         \n",
      "                                                                 \n",
      " dense (Dense)               (None, 207)               159183    \n",
      "                                                                 \n",
      "=================================================================\n",
      "Total params: 446,191\n",
      "Trainable params: 446,191\n",
      "Non-trainable params: 0\n",
      "_________________________________________________________________\n"
     ]
    }
   ],
   "source": [
    "model.summary()"
   ]
  },
  {
   "cell_type": "code",
   "execution_count": 9,
   "id": "4507d073",
   "metadata": {},
   "outputs": [],
   "source": [
    "model.compile(optimizer='adam',\n",
    "              loss=tf.keras.losses.SparseCategoricalCrossentropy(),\n",
    "              metrics=['accuracy'])"
   ]
  },
  {
   "cell_type": "code",
   "execution_count": 10,
   "id": "c8746001",
   "metadata": {},
   "outputs": [
    {
     "name": "stderr",
     "output_type": "stream",
     "text": [
      "2023-01-17 19:44:22.822555: I tensorflow/stream_executor/cuda/cuda_dnn.cc:368] Loaded cuDNN version 8303\n",
      "2023-01-17 19:44:23.052351: W tensorflow/stream_executor/gpu/asm_compiler.cc:111] *** WARNING *** You are using ptxas 10.1.243, which is older than 11.1. ptxas before 11.1 is known to miscompile XLA code, leading to incorrect results or invalid-address errors.\n",
      "\n",
      "You may not need to update to CUDA 11.1; cherry-picking the ptxas binary is often sufficient.\n"
     ]
    },
    {
     "name": "stdout",
     "output_type": "stream",
     "text": [
      "6163/6163 [==============================] - 228s 37ms/step - loss: 0.1075 - accuracy: 0.9752 - val_loss: 2.0080e-05 - val_accuracy: 1.0000\n"
     ]
    }
   ],
   "source": [
    "history = model.fit(\n",
    "    train_ds,\n",
    "    validation_data=(test_ds), # validation from same augmentation\n",
    "    epochs=1\n",
    ")"
   ]
  },
  {
   "cell_type": "code",
   "execution_count": 11,
   "id": "edb42ce9",
   "metadata": {},
   "outputs": [
    {
     "data": {
      "text/plain": [
       "'Vietnam'"
      ]
     },
     "execution_count": 11,
     "metadata": {},
     "output_type": "execute_result"
    }
   ],
   "source": [
    "new_img_path = './download_flags_2/Vietnam flag/Image_10.jpg'\n",
    "predict_flag_file(new_img_path, model)"
   ]
  },
  {
   "cell_type": "code",
   "execution_count": 12,
   "id": "c7bb7b03",
   "metadata": {
    "scrolled": true
   },
   "outputs": [
    {
     "name": "stderr",
     "output_type": "stream",
     "text": [
      "/home/messq/anaconda3/lib/python3.9/site-packages/PIL/Image.py:975: UserWarning: Palette images with Transparency expressed in bytes should be converted to RGBA images\n",
      "  warnings.warn(\n"
     ]
    }
   ],
   "source": [
    "percent_wrong = predict_on_folder(model, './download_flags_2/', verbose=False)"
   ]
  },
  {
   "cell_type": "code",
   "execution_count": 13,
   "id": "e3109df0",
   "metadata": {},
   "outputs": [
    {
     "data": {
      "text/plain": [
       "0.08831646734130635"
      ]
     },
     "execution_count": 13,
     "metadata": {},
     "output_type": "execute_result"
    }
   ],
   "source": [
    "percent_wrong"
   ]
  },
  {
   "cell_type": "code",
   "execution_count": 14,
   "id": "f1672f7d",
   "metadata": {},
   "outputs": [],
   "source": [
    "# model.save(\"my_h5_model.h5\")"
   ]
  },
  {
   "cell_type": "code",
   "execution_count": 15,
   "id": "4647671f",
   "metadata": {},
   "outputs": [],
   "source": [
    "# file = open('class_names.txt','w')\n",
    "# for item in class_names:\n",
    "#     file.write(item+\"\\n\")\n",
    "# file.close()"
   ]
  },
  {
   "cell_type": "code",
   "execution_count": 16,
   "id": "2da59933",
   "metadata": {},
   "outputs": [],
   "source": [
    "best_temp_model = tf.keras.models.load_model('app/my_h5_model_8_5.h5')"
   ]
  },
  {
   "cell_type": "code",
   "execution_count": 17,
   "id": "e3febb79",
   "metadata": {},
   "outputs": [],
   "source": [
    "percent_wrong_btm = predict_on_folder(best_temp_model, './download_flags_2/',verbose=False)"
   ]
  },
  {
   "cell_type": "code",
   "execution_count": 18,
   "id": "34f7163e",
   "metadata": {},
   "outputs": [
    {
     "data": {
      "text/plain": [
       "0.08555657773689053"
      ]
     },
     "execution_count": 18,
     "metadata": {},
     "output_type": "execute_result"
    }
   ],
   "source": [
    "percent_wrong_btm"
   ]
  },
  {
   "cell_type": "code",
   "execution_count": null,
   "id": "60eef9de",
   "metadata": {},
   "outputs": [],
   "source": []
  }
 ],
 "metadata": {
  "kernelspec": {
   "display_name": "Python 3 (ipykernel)",
   "language": "python",
   "name": "python3"
  },
  "language_info": {
   "codemirror_mode": {
    "name": "ipython",
    "version": 3
   },
   "file_extension": ".py",
   "mimetype": "text/x-python",
   "name": "python",
   "nbconvert_exporter": "python",
   "pygments_lexer": "ipython3",
   "version": "3.9.7"
  }
 },
 "nbformat": 4,
 "nbformat_minor": 5
}
